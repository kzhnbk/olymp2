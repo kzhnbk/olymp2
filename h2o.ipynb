{
 "cells": [
  {
   "cell_type": "code",
   "execution_count": null,
   "id": "a81f9fc6-058d-472b-ae39-cc6946629ede",
   "metadata": {},
   "outputs": [],
   "source": [
    "import h2o\n",
    "from h2o.automl import H2OAutoML\n",
    "import pandas as pd\n",
    "import numpy as np\n",
    "\n",
    "# Инициализация H2O\n",
    "h2o.init()\n",
    "\n",
    "# Загрузка данных (пример с датасетом по классификации)\n",
    "data = pd.read_csv('dataset.csv')\n",
    "# Конвертация в H2O фрейм\n",
    "h2o_data = h2o.H2OFrame(data)\n",
    "\n",
    "# Определение переменных\n",
    "y = 'target'  # Целевая переменная\n",
    "x = list(h2o_data.columns)\n",
    "x.remove(y)  # Все колонки кроме целевой\n",
    "\n",
    "# Разделение на тренировочную и тестовую выборки\n",
    "train, test = h2o_data.split_frame(ratios=[0.8], seed=42)\n",
    "\n",
    "# Настройка и запуск AutoML\n",
    "aml = H2OAutoML(\n",
    "    max_runtime_secs=3600,    # Максимальное время работы (1 час)\n",
    "    max_models=20,            # Максимальное количество моделей\n",
    "    seed=42,                  # Фиксация seed для воспроизводимости\n",
    "    sort_metric='AUC',        # Метрика для сортировки моделей\n",
    "    balance_classes=True,     # Балансировка классов\n",
    "    exclude_algos=['DeepLearning']  # Можно исключить определенные алгоритмы\n",
    ")\n",
    "\n",
    "# Запуск AutoML\n",
    "aml.train(x=x, y=y, training_frame=train, validation_frame=test)\n",
    "\n",
    "# Получение лидерборда моделей\n",
    "lb = aml.leaderboard\n",
    "print(lb.head(10))\n",
    "\n",
    "# Лучшая модель\n",
    "best_model = aml.leader\n",
    "\n",
    "# Предсказание\n",
    "preds = best_model.predict(test)\n",
    "print(preds.head())\n",
    "\n",
    "# Оценка модели\n",
    "performance = best_model.model_performance(test)\n",
    "print(performance)\n",
    "\n",
    "# Сохранение модели\n",
    "model_path = h2o.save_model(model=best_model, path=\"./models\", force=True)\n",
    "print(f\"Модель сохранена по пути: {model_path}\")\n",
    "\n",
    "# Для регрессии можно использовать другие метрики\n",
    "if aml.leader.type == 'regressor':\n",
    "    print(f\"RMSE: {performance.rmse()}\")\n",
    "    print(f\"R2: {performance.r2()}\")\n",
    "else:\n",
    "    # Для классификации\n",
    "    print(f\"AUC: {performance.auc()}\")\n",
    "    print(f\"F1: {performance.F1()}\")\n",
    "    \n",
    "# Закрытие H2O\n",
    "h2o.shutdown()"
   ]
  },
  {
   "cell_type": "code",
   "execution_count": null,
   "id": "1b4332ec-3724-4d62-a1de-30b2b77ea7fd",
   "metadata": {},
   "outputs": [],
   "source": [
    "def make_predictions(model, new_data):\n",
    "    h2o_newdata = h2o.H2OFrame(new_data)\n",
    "    predictions = model.predict(h2o_newdata)\n",
    "    return predictions.as_data_frame()"
   ]
  },
  {
   "cell_type": "code",
   "execution_count": null,
   "id": "f3a02f74-2da7-4325-ab33-dfe4d2f8f937",
   "metadata": {},
   "outputs": [],
   "source": [
    "aml = H2OAutoML(\n",
    "    max_models=20,\n",
    "    seed=42,\n",
    "    nfolds=5,  # 5-кратная кросс-валидация\n",
    "    fold_column='fold_column',  # Можно указать колонку с фолдами\n",
    "    keep_cross_validation_predictions=True,  # Сохранять предсказания кросс-валидации\n",
    "    keep_cross_validation_models=True       # Сохранять модели кросс-валидации\n",
    ") # cross-val"
   ]
  },
  {
   "cell_type": "code",
   "execution_count": null,
   "id": "2af397db-0d1f-47c7-9d4d-c9539cb36422",
   "metadata": {},
   "outputs": [],
   "source": [
    "aml = H2OAutoML(\n",
    "    max_models=20,\n",
    "    seed=42,\n",
    "    exclude_algos=None,\n",
    "    include_algos=['GBM', 'RF', 'XGBoost', 'GLM'],\n",
    "    metalearner_algorithm='AUTO'  # Можно выбрать 'GLM', 'GBM', 'DRF' и др.\n",
    ") # ensemble"
   ]
  },
  {
   "cell_type": "code",
   "execution_count": null,
   "id": "001837ef-7e9b-4f4d-a022-b0ef19986b27",
   "metadata": {},
   "outputs": [],
   "source": [
    "aml = H2OAutoML(\n",
    "    max_models=20,\n",
    "    seed=42,\n",
    "    balance_classes=True,\n",
    "    class_sampling_factors=[0.2, 1.0],  # Соотношение классов\n",
    "    max_after_balance_size=3.0  # Максимальный размер после балансировки\n",
    ") # disbalance"
   ]
  },
  {
   "cell_type": "code",
   "execution_count": null,
   "id": "40491657-5379-4b9f-8bbf-cf1f4d1294c1",
   "metadata": {},
   "outputs": [],
   "source": []
  },
  {
   "cell_type": "code",
   "execution_count": null,
   "id": "ec01232c-0596-42f6-a0d3-1f48010d2305",
   "metadata": {},
   "outputs": [],
   "source": []
  },
  {
   "cell_type": "code",
   "execution_count": null,
   "id": "c17686d4-3d91-4f16-a4fb-0d2b79dd5d73",
   "metadata": {},
   "outputs": [],
   "source": []
  },
  {
   "cell_type": "code",
   "execution_count": null,
   "id": "7802c466-61d5-4cc1-a046-9aaaf397f96a",
   "metadata": {},
   "outputs": [],
   "source": []
  },
  {
   "cell_type": "code",
   "execution_count": null,
   "id": "eb008f10-14c0-4b1a-9735-99c37da65f73",
   "metadata": {},
   "outputs": [],
   "source": []
  },
  {
   "cell_type": "code",
   "execution_count": null,
   "id": "4c378b05-d59c-4fbb-82dc-ded09140c8d3",
   "metadata": {},
   "outputs": [],
   "source": []
  },
  {
   "cell_type": "code",
   "execution_count": null,
   "id": "326dafbd-b6fd-4bbc-8350-14fdf3184919",
   "metadata": {},
   "outputs": [],
   "source": []
  },
  {
   "cell_type": "code",
   "execution_count": null,
   "id": "44460a9e-a1ac-4765-b315-6bd370b709e0",
   "metadata": {},
   "outputs": [],
   "source": []
  },
  {
   "cell_type": "code",
   "execution_count": null,
   "id": "558a39b0-1ab4-4cd5-a406-738cc72f7bca",
   "metadata": {},
   "outputs": [],
   "source": []
  },
  {
   "cell_type": "code",
   "execution_count": null,
   "id": "aec9ee42-fe48-4ec7-b342-57e37d985c98",
   "metadata": {},
   "outputs": [],
   "source": []
  },
  {
   "cell_type": "code",
   "execution_count": null,
   "id": "ec38d75e-97d7-43c2-a232-918a1ad18d04",
   "metadata": {},
   "outputs": [],
   "source": []
  },
  {
   "cell_type": "code",
   "execution_count": null,
   "id": "b196dbbc-4ac9-42a8-9785-802554b1e1b8",
   "metadata": {},
   "outputs": [],
   "source": []
  }
 ],
 "metadata": {
  "kernelspec": {
   "display_name": "Python 3 (ipykernel)",
   "language": "python",
   "name": "python3"
  },
  "language_info": {
   "codemirror_mode": {
    "name": "ipython",
    "version": 3
   },
   "file_extension": ".py",
   "mimetype": "text/x-python",
   "name": "python",
   "nbconvert_exporter": "python",
   "pygments_lexer": "ipython3",
   "version": "3.13.2"
  }
 },
 "nbformat": 4,
 "nbformat_minor": 5
}
