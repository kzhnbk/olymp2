{
 "cells": [
  {
   "cell_type": "code",
   "execution_count": null,
   "id": "d3ffdf21-9f8a-4b37-a501-014594092422",
   "metadata": {},
   "outputs": [],
   "source": [
    "import pandas as pd\n",
    "\n",
    "df = pd.DataFrame({\n",
    "    'A': [[1, 2], [2, 3, 4], [1, 3], [4], [2, 3]]\n",
    "})\n",
    "\n",
    "allowed = {1, 2, 3}\n",
    "\n",
    "# Способ 1: через apply и set\n",
    "df_filtered = df[df['A'].apply(lambda x: set(x).issubset(allowed))]"
   ]
  },
  {
   "cell_type": "code",
   "execution_count": null,
   "id": "41bd267f-ce77-42f5-bca2-64045b19c952",
   "metadata": {},
   "outputs": [],
   "source": [
    "df.groupby('col')['value'].agg(['mean', 'std', 'count'])"
   ]
  },
  {
   "cell_type": "code",
   "execution_count": null,
   "id": "ed94b8f4-e46e-4e2d-a15b-481e166bad2c",
   "metadata": {},
   "outputs": [],
   "source": [
    "df.groupby(['user_id', 'session_id']).agg({\n",
    "    'clicks': 'sum',\n",
    "    'duration': ['mean', 'max']\n",
    "})\n"
   ]
  },
  {
   "cell_type": "code",
   "execution_count": null,
   "id": "f1d75866-8794-47af-887c-68ff4c4ca589",
   "metadata": {},
   "outputs": [],
   "source": [
    "# Оставим только те группы, где сумма кликов > 100\n",
    "filtered = df.groupby('user_id').filter(lambda x: x['clicks'].sum() > 100)\n"
   ]
  },
  {
   "cell_type": "code",
   "execution_count": null,
   "id": "923b4c64-e377-4f2f-9dc6-57620356ab92",
   "metadata": {},
   "outputs": [],
   "source": [
    "# Нормализация внутри групп\n",
    "df['clicks_norm'] = df.groupby('user_id')['clicks'].transform(\n",
    "    lambda x: (x - x.mean()) / x.std()\n",
    ")"
   ]
  },
  {
   "cell_type": "code",
   "execution_count": null,
   "id": "89754f5b-3f4f-417f-945f-e7f9e9e6c9f8",
   "metadata": {},
   "outputs": [],
   "source": [
    "allowed = {1, 2, 3}\n",
    "df[df['A'].apply(lambda x: set(x).issubset(allowed))]"
   ]
  },
  {
   "cell_type": "code",
   "execution_count": null,
   "id": "ecd04b10-68fa-4f06-a5b3-00c32abbf6d4",
   "metadata": {},
   "outputs": [],
   "source": [
    "import pandas as pd\n",
    "\n",
    "# Пример DataFrame\n",
    "df = pd.DataFrame({\n",
    "    'col1': ['a', 'b', 'c', 'd'],\n",
    "    'col2': ['b', 'c', 'a', 'e'],\n",
    "    'col3': ['a', 'b', 'c', 'f']\n",
    "})\n",
    "\n",
    "# Допустимые значения\n",
    "allowed = ['a', 'b', 'c']\n",
    "\n",
    "# Проверка: все значения в строке входят в allowed\n",
    "mask = df[['col1', 'col2', 'col3']].apply(lambda row: set(row).issubset(allowed), axis=1)\n",
    "\n",
    "# Фильтрация\n",
    "filtered_df = df[mask]\n"
   ]
  },
  {
   "cell_type": "code",
   "execution_count": null,
   "id": "2b551fb2-68d6-49fb-93c5-018985167283",
   "metadata": {},
   "outputs": [],
   "source": [
    "cols_to_check = [col for col in df.columns if col not in ['id', 'date']]\n",
    "mask = df[cols_to_check].apply(lambda row: set(row).issubset(allowed), axis=1)\n",
    "filtered_df = df[mask]\n"
   ]
  },
  {
   "cell_type": "code",
   "execution_count": null,
   "id": "ed1a5d42-af72-469c-8bcb-d0609ddcaee4",
   "metadata": {},
   "outputs": [],
   "source": []
  },
  {
   "cell_type": "code",
   "execution_count": null,
   "id": "79c70c57-ee41-489d-b2fe-2119f032512c",
   "metadata": {},
   "outputs": [],
   "source": []
  }
 ],
 "metadata": {
  "kernelspec": {
   "display_name": "Python 3 (ipykernel)",
   "language": "python",
   "name": "python3"
  },
  "language_info": {
   "codemirror_mode": {
    "name": "ipython",
    "version": 3
   },
   "file_extension": ".py",
   "mimetype": "text/x-python",
   "name": "python",
   "nbconvert_exporter": "python",
   "pygments_lexer": "ipython3",
   "version": "3.13.2"
  }
 },
 "nbformat": 4,
 "nbformat_minor": 5
}
